{
 "cells": [
  {
   "cell_type": "markdown",
   "id": "9e9d1f29",
   "metadata": {
    "id": "T_iexQXXCwK8",
    "papermill": {
     "duration": 0.002972,
     "end_time": "2024-01-20T05:14:18.843205",
     "exception": false,
     "start_time": "2024-01-20T05:14:18.840233",
     "status": "completed"
    },
    "tags": []
   },
   "source": [
    "# 1. Connect kaggle API and get data"
   ]
  },
  {
   "cell_type": "code",
   "execution_count": 1,
   "id": "c756c0dc",
   "metadata": {
    "execution": {
     "iopub.execute_input": "2024-01-20T05:14:18.850910Z",
     "iopub.status.busy": "2024-01-20T05:14:18.850646Z",
     "iopub.status.idle": "2024-01-20T05:14:18.860346Z",
     "shell.execute_reply": "2024-01-20T05:14:18.859788Z"
    },
    "papermill": {
     "duration": 0.015957,
     "end_time": "2024-01-20T05:14:18.862047",
     "exception": false,
     "start_time": "2024-01-20T05:14:18.846090",
     "status": "completed"
    },
    "tags": []
   },
   "outputs": [
    {
     "name": "stdout",
     "output_type": "stream",
     "text": [
      "Deleted file: /kaggle/working/__notebook__.ipynb\n",
      "All files and folders in /kaggle/working/ have been deleted.\n"
     ]
    }
   ],
   "source": [
    "import os\n",
    "import shutil\n",
    "\n",
    "# Đường dẫn đến thư mục cần xóa\n",
    "working_directory = \"/kaggle/working/\"\n",
    "\n",
    "# Hàm xóa tất cả các tệp và thư mục trong đường dẫn cụ thể\n",
    "def delete_contents(directory):\n",
    "    for item in os.listdir(directory):\n",
    "        item_path = os.path.join(directory, item)\n",
    "        if os.path.isfile(item_path):\n",
    "            os.remove(item_path)\n",
    "            print(f\"Deleted file: {item_path}\")\n",
    "        elif os.path.isdir(item_path):\n",
    "            shutil.rmtree(item_path)\n",
    "            print(f\"Deleted directory: {item_path}\")\n",
    "\n",
    "# Gọi hàm để xóa nội dung trong thư mục /kaggle/working/\n",
    "delete_contents(working_directory)\n",
    "\n",
    "print(\"All files and folders in /kaggle/working/ have been deleted.\")"
   ]
  },
  {
   "cell_type": "markdown",
   "id": "02a5e84b",
   "metadata": {
    "id": "5qzN7eHtWikl",
    "papermill": {
     "duration": 0.002629,
     "end_time": "2024-01-20T05:14:18.867353",
     "exception": false,
     "start_time": "2024-01-20T05:14:18.864724",
     "status": "completed"
    },
    "tags": []
   },
   "source": [
    "## Load data raw"
   ]
  },
  {
   "cell_type": "markdown",
   "id": "36e8e82c",
   "metadata": {
    "id": "HNAwo5p8_CN7",
    "papermill": {
     "duration": 0.002416,
     "end_time": "2024-01-20T05:14:18.872217",
     "exception": false,
     "start_time": "2024-01-20T05:14:18.869801",
     "status": "completed"
    },
    "tags": []
   },
   "source": [
    "# 2. Swin Transformers"
   ]
  },
  {
   "cell_type": "markdown",
   "id": "84174695",
   "metadata": {
    "id": "ptbSj9Lt_COP",
    "papermill": {
     "duration": 0.004011,
     "end_time": "2024-01-20T05:14:18.882679",
     "exception": false,
     "start_time": "2024-01-20T05:14:18.878668",
     "status": "completed"
    },
    "tags": []
   },
   "source": [
    "## 2.1. Setup"
   ]
  },
  {
   "cell_type": "code",
   "execution_count": 2,
   "id": "f6aed485",
   "metadata": {
    "execution": {
     "iopub.execute_input": "2024-01-20T05:14:18.889909Z",
     "iopub.status.busy": "2024-01-20T05:14:18.889613Z",
     "iopub.status.idle": "2024-01-20T05:14:23.247546Z",
     "shell.execute_reply": "2024-01-20T05:14:23.246834Z"
    },
    "id": "W_nmhq1x_COR",
    "outputId": "a51dfaf5-a844-4f2a-aaa8-ffa4c4fd3426",
    "papermill": {
     "duration": 4.363985,
     "end_time": "2024-01-20T05:14:23.249607",
     "exception": false,
     "start_time": "2024-01-20T05:14:18.885622",
     "status": "completed"
    },
    "tags": []
   },
   "outputs": [],
   "source": [
    "import matplotlib.pyplot as plt\n",
    "import numpy as np\n",
    "import os\n",
    "import cv2\n",
    "from sklearn.model_selection import train_test_split"
   ]
  },
  {
   "cell_type": "markdown",
   "id": "69c058f6",
   "metadata": {
    "id": "N9L3S7jd_COU",
    "papermill": {
     "duration": 0.00281,
     "end_time": "2024-01-20T05:14:23.255311",
     "exception": false,
     "start_time": "2024-01-20T05:14:23.252501",
     "status": "completed"
    },
    "tags": []
   },
   "source": [
    "## 2.2. Normalization\n",
    "**Với:**\n",
    "- XY1 defocused_blur\n",
    "- XY2 motion_blur\n",
    "- XY3 noise\n",
    "- XY4 rain"
   ]
  },
  {
   "cell_type": "markdown",
   "id": "cc59a67a",
   "metadata": {
    "id": "amrSHJg-Xash",
    "papermill": {
     "duration": 0.002385,
     "end_time": "2024-01-20T05:14:23.260262",
     "exception": false,
     "start_time": "2024-01-20T05:14:23.257877",
     "status": "completed"
    },
    "tags": []
   },
   "source": [
    "### 2.2.1. Preparation data"
   ]
  },
  {
   "cell_type": "code",
   "execution_count": 3,
   "id": "a62c9ccc",
   "metadata": {
    "execution": {
     "iopub.execute_input": "2024-01-20T05:14:23.267126Z",
     "iopub.status.busy": "2024-01-20T05:14:23.266767Z",
     "iopub.status.idle": "2024-01-20T05:24:27.017232Z",
     "shell.execute_reply": "2024-01-20T05:24:27.016253Z"
    },
    "papermill": {
     "duration": 603.758926,
     "end_time": "2024-01-20T05:24:27.021848",
     "exception": false,
     "start_time": "2024-01-20T05:14:23.262922",
     "status": "completed"
    },
    "tags": []
   },
   "outputs": [
    {
     "name": "stdout",
     "output_type": "stream",
     "text": [
      "Không thể đọc ảnh từ đường dẫn: /kaggle/input/dataset-collection-defocus-blur/0313_defocus-blur.jpg\n"
     ]
    },
    {
     "name": "stderr",
     "output_type": "stream",
     "text": [
      "libpng error: IDAT: CRC error\n"
     ]
    },
    {
     "name": "stdout",
     "output_type": "stream",
     "text": [
      "Không thể đọc ảnh từ đường dẫn: /kaggle/input/dataset-collection-defocus-blur/1024_defocus-blur.jpg\n"
     ]
    },
    {
     "name": "stdout",
     "output_type": "stream",
     "text": [
      "X shape: (1049, 128, 128, 3) - Y shape: (1049,)\n"
     ]
    },
    {
     "name": "stdout",
     "output_type": "stream",
     "text": [
      "Không thể đọc ảnh từ đường dẫn: /kaggle/input/dataset-collection-motion-blur/0707_motion-blur.jpg\n"
     ]
    },
    {
     "name": "stdout",
     "output_type": "stream",
     "text": [
      "X shape: (7199, 128, 128, 3) - Y shape: (7199,)\n"
     ]
    },
    {
     "name": "stdout",
     "output_type": "stream",
     "text": [
      "Không thể đọc ảnh từ đường dẫn: /kaggle/input/dataset-collection-noise/2779_noise.jpg\n"
     ]
    },
    {
     "name": "stdout",
     "output_type": "stream",
     "text": [
      "X shape: (3160, 128, 128, 3) - Y shape: (3160,)\n"
     ]
    },
    {
     "name": "stdout",
     "output_type": "stream",
     "text": [
      "X shape: (13711, 128, 128, 3) - Y shape: (13711,)\n"
     ]
    }
   ],
   "source": [
    "import os\n",
    "import cv2\n",
    "import numpy as np\n",
    "from sklearn.model_selection import train_test_split\n",
    "\n",
    "# Kích thước ảnh chuẩn\n",
    "target_size = (128, 128)\n",
    "\n",
    "def process_image(image_path):\n",
    "    try:\n",
    "        image = cv2.imread(image_path)\n",
    "\n",
    "        # Kiểm tra xem ảnh có được đọc thành công hay không\n",
    "        if image is None:\n",
    "            print(f\"Không thể đọc ảnh từ đường dẫn: {image_path}\")\n",
    "            return None\n",
    "\n",
    "        # Chuyển đổi sang dạng RGB\n",
    "        image = cv2.cvtColor(image, cv2.COLOR_BGR2RGB)\n",
    "\n",
    "        # Chuẩn hóa kích thước\n",
    "        image = cv2.resize(image, target_size)\n",
    "\n",
    "        # Chuẩn hóa về khoảng [0, 1]\n",
    "        image = image / 255.0\n",
    "\n",
    "        return image\n",
    "    except Exception as e:\n",
    "        print(f\"Lỗi khi xử lý ảnh từ đường dẫn {image_path}: {e}\")\n",
    "        return None\n",
    "    \n",
    "# Hàm để tạo dữ liệu từ một thư mục và chỉ chọn các file có đuôi .jpg\n",
    "def create_data_with_jpg(data_dir, label):\n",
    "    X = []\n",
    "    Y = []\n",
    "\n",
    "    for filename in os.listdir(data_dir):\n",
    "        if filename.lower().endswith('.jpg'):\n",
    "            img_path = os.path.join(data_dir, filename)\n",
    "\n",
    "            # Xử lý ảnh và thêm vào danh sách\n",
    "            image_data = process_image(img_path)\n",
    "            \n",
    "            # Kiểm tra xem ảnh có được xử lý thành công hay không\n",
    "            if image_data is not None:\n",
    "                X.append(image_data)\n",
    "\n",
    "                # Thêm nhãn vào danh sách\n",
    "                Y.append(label)\n",
    "\n",
    "    # Chuyển danh sách thành numpy arrays\n",
    "    X = np.array(X)\n",
    "    Y = np.array(Y)\n",
    "\n",
    "    # In thông tin\n",
    "    print(f'X shape: {X.shape} - Y shape: {Y.shape}')\n",
    "\n",
    "    return X, Y\n",
    "\n",
    "# Tạo dữ liệu cho từng nhóm ảnh chỉ với các file có đuôi .jpg và có thể đọc được\n",
    "X1, Y1 = create_data_with_jpg('/kaggle/input/dataset-collection-defocus-blur', 1)\n",
    "X2, Y2 = create_data_with_jpg('/kaggle/input/dataset-collection-motion-blur', 2)\n",
    "X3, Y3 = create_data_with_jpg('/kaggle/input/dataset-collection-noise', 3)\n",
    "X4, Y4 = create_data_with_jpg('/kaggle/input/dataset-collection-rain', 4)"
   ]
  },
  {
   "cell_type": "code",
   "execution_count": 4,
   "id": "002b69da",
   "metadata": {
    "execution": {
     "iopub.execute_input": "2024-01-20T05:24:27.030269Z",
     "iopub.status.busy": "2024-01-20T05:24:27.029334Z",
     "iopub.status.idle": "2024-01-20T05:24:33.272569Z",
     "shell.execute_reply": "2024-01-20T05:24:33.271631Z"
    },
    "papermill": {
     "duration": 6.249634,
     "end_time": "2024-01-20T05:24:33.274513",
     "exception": false,
     "start_time": "2024-01-20T05:24:27.024879",
     "status": "completed"
    },
    "tags": []
   },
   "outputs": [
    {
     "name": "stdout",
     "output_type": "stream",
     "text": [
      "x_train shape: (17582, 128, 128, 3) - y_train shape: (17582,)\n",
      "x_test shape: (7537, 128, 128, 3) - y_test shape: (7537,)\n"
     ]
    }
   ],
   "source": [
    "# Phân chia dữ liệu thành tập huấn luyện và tập kiểm tra\n",
    "x1_train, x1_test, y1_train, y1_test = train_test_split(X1, Y1, test_size=0.3, random_state=42)\n",
    "x2_train, x2_test, y2_train, y2_test = train_test_split(X2, Y2, test_size=0.3, random_state=42)\n",
    "x3_train, x3_test, y3_train, y3_test = train_test_split(X3, Y3, test_size=0.3, random_state=42)\n",
    "x4_train, x4_test, y4_train, y4_test = train_test_split(X4, Y4, test_size=0.3, random_state=42)\n",
    "\n",
    "x_train = np.concatenate((x1_train, x2_train, x3_train, x4_train), axis=0)\n",
    "x_test = np.concatenate((x1_test, x2_test, x3_test, x4_test), axis=0)\n",
    "y_train = np.concatenate((y1_train, y2_train, y3_train, y4_train), axis=0)\n",
    "y_test = np.concatenate((y1_test, y2_test, y3_test, y4_test), axis=0)\n",
    "\n",
    "print(f'x_train shape: {x_train.shape} - y_train shape: {y_train.shape}')\n",
    "print(f'x_test shape: {x_test.shape} - y_test shape: {y_test.shape}')"
   ]
  },
  {
   "cell_type": "code",
   "execution_count": 5,
   "id": "df98c52b",
   "metadata": {
    "execution": {
     "iopub.execute_input": "2024-01-20T05:24:33.282655Z",
     "iopub.status.busy": "2024-01-20T05:24:33.282378Z",
     "iopub.status.idle": "2024-01-20T05:24:33.288127Z",
     "shell.execute_reply": "2024-01-20T05:24:33.287344Z"
    },
    "papermill": {
     "duration": 0.012121,
     "end_time": "2024-01-20T05:24:33.289825",
     "exception": false,
     "start_time": "2024-01-20T05:24:33.277704",
     "status": "completed"
    },
    "tags": []
   },
   "outputs": [
    {
     "name": "stdout",
     "output_type": "stream",
     "text": [
      "Train Label Counts: {1: 734, 2: 5039, 3: 2212, 4: 9597}\n",
      "Test Label Counts: {1: 315, 2: 2160, 3: 948, 4: 4114}\n"
     ]
    }
   ],
   "source": [
    "# Đếm số lượng mẫu cho mỗi nhóm label trong tập train\n",
    "unique_train, counts_train = np.unique(y_train, return_counts=True)\n",
    "train_label_counts = dict(zip(unique_train, counts_train))\n",
    "print(\"Train Label Counts:\", train_label_counts)\n",
    "\n",
    "# Đếm số lượng mẫu cho mỗi nhóm label trong tập test\n",
    "unique_test, counts_test = np.unique(y_test, return_counts=True)\n",
    "test_label_counts = dict(zip(unique_test, counts_test))\n",
    "print(\"Test Label Counts:\", test_label_counts)"
   ]
  },
  {
   "cell_type": "code",
   "execution_count": 6,
   "id": "8926179f",
   "metadata": {
    "execution": {
     "iopub.execute_input": "2024-01-20T05:24:33.297245Z",
     "iopub.status.busy": "2024-01-20T05:24:33.297006Z",
     "iopub.status.idle": "2024-01-20T05:24:47.482696Z",
     "shell.execute_reply": "2024-01-20T05:24:47.481710Z"
    },
    "papermill": {
     "duration": 14.191908,
     "end_time": "2024-01-20T05:24:47.484758",
     "exception": false,
     "start_time": "2024-01-20T05:24:33.292850",
     "status": "completed"
    },
    "tags": []
   },
   "outputs": [
    {
     "name": "stdout",
     "output_type": "stream",
     "text": [
      "Dữ liệu đã được lưu thành công.\n"
     ]
    }
   ],
   "source": [
    "# Lưu dữ liệu vào các tập tin .npz\n",
    "np.savez('/kaggle/working/training_data.npz', x_train=x_train, y_train=y_train)\n",
    "np.savez('/kaggle/working/testing_data.npz', x_test=x_test, y_test=y_test)\n",
    "\n",
    "# In thông báo sau khi lưu thành công\n",
    "print(\"Dữ liệu đã được lưu thành công.\")"
   ]
  },
  {
   "cell_type": "code",
   "execution_count": 7,
   "id": "a4db1833",
   "metadata": {
    "execution": {
     "iopub.execute_input": "2024-01-20T05:24:49.555115Z",
     "iopub.status.busy": "2024-01-20T05:24:49.554669Z",
     "iopub.status.idle": "2024-01-20T05:24:49.559497Z",
     "shell.execute_reply": "2024-01-20T05:24:49.558621Z"
    },
    "papermill": {
     "duration": 0.012243,
     "end_time": "2024-01-20T05:24:49.561328",
     "exception": false,
     "start_time": "2024-01-20T05:24:49.549085",
     "status": "completed"
    },
    "tags": []
   },
   "outputs": [],
   "source": [
    "# # Đọc dữ liệu từ tập tin .npz\n",
    "# loaded_data_train = np.load('/kaggle/working/training_data.npz')\n",
    "# loaded_data_test = np.load('/kaggle/working/testing_data.npz')\n",
    "\n",
    "# # Truy cập mảng từ dữ liệu đã đọc\n",
    "# x_train = loaded_data_train['x_train']\n",
    "# y_train = loaded_data_train['y_train']\n",
    "# x_test = loaded_data_test['x_test']\n",
    "# y_test = loaded_data_test['y_test']\n",
    "\n",
    "# # In thông báo sau khi tải thành công\n",
    "# print(\"Dữ liệu đã được tải thành công.\")\n",
    "\n",
    "# # Kiểm tra kích thước của dữ liệu\n",
    "# print(f'x_train shape: {x_train.shape} - y_train shape: {y_train.shape}')\n",
    "# print(f'x_test shape: {x_test.shape} - y_test shape: {y_test.shape}')"
   ]
  }
 ],
 "metadata": {
  "accelerator": "GPU",
  "colab": {
   "collapsed_sections": [
    "amrSHJg-Xash"
   ],
   "gpuType": "T4",
   "provenance": []
  },
  "kaggle": {
   "accelerator": "tpu1vmV38",
   "dataSources": [
    {
     "datasetId": 4019034,
     "sourceId": 6992371,
     "sourceType": "datasetVersion"
    },
    {
     "sourceId": 159683654,
     "sourceType": "kernelVersion"
    },
    {
     "sourceId": 159686040,
     "sourceType": "kernelVersion"
    },
    {
     "sourceId": 159686229,
     "sourceType": "kernelVersion"
    },
    {
     "sourceId": 159686886,
     "sourceType": "kernelVersion"
    }
   ],
   "dockerImageVersionId": 30636,
   "isGpuEnabled": false,
   "isInternetEnabled": true,
   "language": "python",
   "sourceType": "notebook"
  },
  "kernelspec": {
   "display_name": "Python 3",
   "language": "python",
   "name": "python3"
  },
  "language_info": {
   "codemirror_mode": {
    "name": "ipython",
    "version": 3
   },
   "file_extension": ".py",
   "mimetype": "text/x-python",
   "name": "python",
   "nbconvert_exporter": "python",
   "pygments_lexer": "ipython3",
   "version": "3.10.13"
  },
  "papermill": {
   "default_parameters": {},
   "duration": 633.067206,
   "end_time": "2024-01-20T05:24:50.217497",
   "environment_variables": {},
   "exception": null,
   "input_path": "__notebook__.ipynb",
   "output_path": "__notebook__.ipynb",
   "parameters": {},
   "start_time": "2024-01-20T05:14:17.150291",
   "version": "2.5.0"
  }
 },
 "nbformat": 4,
 "nbformat_minor": 5
}
